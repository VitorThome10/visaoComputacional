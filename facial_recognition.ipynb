{
  "nbformat": 4,
  "nbformat_minor": 0,
  "metadata": {
    "colab": {
      "provenance": [],
      "authorship_tag": "ABX9TyNLovq1IFV940FHJapCfPW4"
    },
    "kernelspec": {
      "name": "python3",
      "display_name": "Python 3"
    },
    "language_info": {
      "name": "python"
    }
  },
  "cells": [
    {
      "cell_type": "code",
      "execution_count": 68,
      "metadata": {
        "id": "91FwJzMXPJ5C"
      },
      "outputs": [],
      "source": [
        "import zipfile\n",
        "import os\n",
        "from PIL import Image\n",
        "import cv2\n",
        "import numpy as np\n",
        "from google.colab.patches import cv2_imshow\n"
      ]
    },
    {
      "cell_type": "code",
      "source": [
        "import os\n",
        "from PIL import Image\n",
        "import numpy as np\n",
        "\n",
        "def get_image_data():\n",
        "    directory = '/content/Carlos_Vitor'\n",
        "    paths = [os.path.join(directory, f) for f in os.listdir(directory) if os.path.isfile(os.path.join(directory, f))]\n",
        "\n",
        "    faces = []\n",
        "    ids = []\n",
        "\n",
        "    for path in paths:\n",
        "        try:\n",
        "            imagem = Image.open(path).convert('L')\n",
        "            imagem_np = np.array(imagem, \"uint8\")\n",
        "            id = int(path.split('.')[1])\n",
        "            ids.append(id)\n",
        "            faces.append(imagem_np)\n",
        "        except Exception as e:\n",
        "            print(f\"Erro ao abrir o arquivo {path}: {e}\")\n",
        "\n",
        "    return np.array(ids), faces\n",
        "\n"
      ],
      "metadata": {
        "id": "N7pxsi9KQmja"
      },
      "execution_count": 69,
      "outputs": []
    },
    {
      "cell_type": "code",
      "source": [
        "ids, faces = get_image_data()"
      ],
      "metadata": {
        "id": "0zoTctjsRzDP"
      },
      "execution_count": 70,
      "outputs": []
    },
    {
      "cell_type": "code",
      "source": [
        "ids\n"
      ],
      "metadata": {
        "colab": {
          "base_uri": "https://localhost:8080/"
        },
        "id": "E6zRu4v-VIOs",
        "outputId": "ea98ca09-7806-4264-8c00-b0b3131dfbd3"
      },
      "execution_count": 71,
      "outputs": [
        {
          "output_type": "execute_result",
          "data": {
            "text/plain": [
              "array([2, 2, 2, 1, 2, 1, 1, 2, 1, 2, 1, 2, 1, 2, 2, 1, 1, 2, 1, 2, 1, 2,\n",
              "       2, 2, 2, 2, 1, 1, 2, 1, 1, 2])"
            ]
          },
          "metadata": {},
          "execution_count": 71
        }
      ]
    },
    {
      "cell_type": "code",
      "source": [
        "lbpg_classifier = cv2.face.LBPHFaceRecognizer_create(radius = 4, neighbors = 14,\n",
        "                                                     grid_x = 9, grid_y=9)\n",
        "\n",
        "\n",
        "lbpg_classifier.train(faces,ids)\n",
        "lbpg_classifier.write('Lbph_classifier.yml')\n"
      ],
      "metadata": {
        "id": "7ab7U0cER2Bw"
      },
      "execution_count": 72,
      "outputs": []
    },
    {
      "cell_type": "code",
      "source": [
        "lbph_face_classifier = cv2.face.LBPHFaceRecognizer_create()\n",
        "lbph_face_classifier.read(\"/content/Lbph_classifier.yml\")"
      ],
      "metadata": {
        "id": "I9LBwH2kU-KB"
      },
      "execution_count": 73,
      "outputs": []
    },
    {
      "cell_type": "code",
      "source": [
        "import os\n",
        "from PIL import Image\n",
        "import numpy as np\n",
        "from google.colab.patches import cv2_imshow  # Importa a função cv2_imshow para exibir imagens no Colab\n",
        "\n",
        "\n",
        "\n",
        "def predict_images():\n",
        "    directory = '/content/Carlos_Vitor'\n",
        "    paths = [os.path.join(directory, f) for f in os.listdir(directory) if os.path.isfile(os.path.join(directory, f)) and not f.startswith('.ipynb_checkpoints')]\n",
        "\n",
        "    for path in paths:\n",
        "        try:\n",
        "            image = Image.open(path).convert('L')\n",
        "            image_np = np.array(image, dtype=np.uint8)\n",
        "            prediction, _ = lbph_face_classifier.predict(image_np)\n",
        "            expected_output = int(path.split('.')[1])\n",
        "\n",
        "            cv2.putText(image_np, 'Pred: ' + str(prediction), (10, 30), cv2.FONT_HERSHEY_COMPLEX_SMALL, 1, (0, 255, 0))\n",
        "            cv2.putText(image_np, 'EXP: ' + str(expected_output), (10, 50), cv2.FONT_HERSHEY_COMPLEX_SMALL, 1, (0, 255, 0))\n",
        "            cv2_imshow(image_np)  # Exibe a imagem usando cv2_imshow() em vez de cv2.imshow()\n",
        "\n",
        "            prediction.append(prediction)\n",
        "\n",
        "        except Exception as e:\n",
        "            print(f\"Erro ao processar a imagem {path}: {e}\")\n",
        "\n",
        "# Chame a função para realizar a predição nas imagens\n",
        "predict_images()\n",
        "\n"
      ],
      "metadata": {
        "id": "7f45psVaVhqH"
      },
      "execution_count": null,
      "outputs": []
    },
    {
      "cell_type": "code",
      "source": [],
      "metadata": {
        "id": "vpLVFjsoXjMI"
      },
      "execution_count": 84,
      "outputs": []
    },
    {
      "cell_type": "code",
      "source": [],
      "metadata": {
        "colab": {
          "base_uri": "https://localhost:8080/"
        },
        "id": "rZP5uK2Wmhcr",
        "outputId": "c685997f-5ede-4319-f07b-ddd000231551"
      },
      "execution_count": 81,
      "outputs": [
        {
          "output_type": "execute_result",
          "data": {
            "text/plain": [
              "array(1)"
            ]
          },
          "metadata": {},
          "execution_count": 81
        }
      ]
    },
    {
      "cell_type": "code",
      "source": [],
      "metadata": {
        "id": "G-vf3GLumics"
      },
      "execution_count": null,
      "outputs": []
    }
  ]
}